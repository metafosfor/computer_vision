{
 "cells": [
  {
   "cell_type": "markdown",
   "metadata": {},
   "source": [
    "## Homework 10\n",
    "\n",
    "In this homework, you are going to use and compare two different trackers (of your liking) and compare the results.\n",
    "\n",
    "### Step 1\n",
    "Decide what video you are going to use for this homework, select an object and generate the template. You can use any video you want (your own, from Youtube, etc.)\n",
    "and track any object you want (e.g. a car, a pedestrian, etc.).\n",
    "\n",
    "### Step 2\n",
    "Initialize a tracker (e.g. KCF).\n",
    "\n",
    "### Step 3\n",
    "Run the tracker on the video and the selected object. Run the tracker for around 10-15 frames.\n",
    "\n",
    "### Step 4\n",
    "For each frame, print the bounding box on the image and save it.\n",
    "\n",
    "### Step 5\n",
    "Select a different tracker (e.g. CSRT) and repeat steps 2, 3 and 4.\n",
    "\n",
    "### Step 6\n",
    "Compare the results:\n",
    "* Do you see any differences? If so, what are they?\n",
    "* Does one tracker perform better than the other? In what way?"
   ]
  },
  {
   "cell_type": "code",
   "execution_count": 2,
   "metadata": {},
   "outputs": [
    {
     "name": "stdout",
     "output_type": "stream",
     "text": [
      "✅ Found stream URL: https://rr1---sn-3tp8apo303g-px8e.googlevideo.com/videoplayback?expire=1759883006&ei=nlrlaM79CdSM6dsP5ujVaA&ip=194.28.100.251&id=o-AEn_8_FJQZJ4qYsvwCtBPUaeDbSpsSop9TVqJWZjigMI&itag=18&source=youtube&requiressl=yes&xpc=EgVo2aDSNQ%3D%3D&met=1759861406%2C&mh=hk&mm=31%2C29&mn=sn-3tp8apo303g-px8e%2Csn-3c27sn7e&ms=au%2Crdu&mv=m&mvi=1&pl=24&rms=au%2Cau&initcwndbps=3195000&bui=ATw7iSUx2MMB_adIXf09sTzyxxntdNrtk6Ue9Nm4y_CUe4X_js4bE_8rUoaaq-vS-EhTxDkAdBFhuAKY&spc=hcYD5RuQQM-5lD9N3KL76aaUhE9hbbAILfQ-CfMtVqiN_vToyakxhk-zPUk&vprv=1&svpuc=1&mime=video%2Fmp4&rqh=1&gir=yes&clen=1785073&ratebypass=yes&dur=23.936&lmt=1729562827842627&mt=1759860569&fvip=5&fexp=51552689%2C51565115%2C51565681%2C51580968&c=ANDROID_VR&txp=5430434&sparams=expire%2Cei%2Cip%2Cid%2Citag%2Csource%2Crequiressl%2Cxpc%2Cbui%2Cspc%2Cvprv%2Csvpuc%2Cmime%2Crqh%2Cgir%2Cclen%2Cratebypass%2Cdur%2Clmt&sig=AJfQdSswRgIhAJLq9LH-kAS-hyW9XFfdkBiEgJ3bHxrsDuqevStT_ulkAiEA65f1lK15AmcdeYKuejebpIVW3BVqL5TArz9V91wh2VE%3D&lsparams=met%2Cmh%2Cmm%2Cmn%2Cms%2Cmv%2Cmvi%2Cpl%2Crms%2Cinitcwndbps&lsig=APaTxxMwRQIhALu7KacnXDPXFWTHSgDJNK1L-PxwW648caeWboDTmjpXAiBbLiWXCN8SGHPddz8KQfPkePNOEYx8F4A62GPw3zpmgw%3D%3D\n"
     ]
    }
   ],
   "source": [
    "#Step 1\n",
    "#Decide what video you are going to use for this homework, select an object and generate the template. \n",
    "#You can use any video you want (your own, from Youtube, etc.) and track any object you want (e.g. a car, a pedestrian, etc.).\n",
    "\n",
    "from pytubefix import YouTube\n",
    "\n",
    "# The URL of the YouTube video you want to read\n",
    "youtube_url = \"https://youtu.be/Y1jTEyb3wiI\" \n",
    "\n",
    "# Create a YouTube object\n",
    "yt = YouTube(youtube_url)\n",
    "\n",
    "# Get the highest resolution progressive stream (mp4 format)\n",
    "# Note: Deepface and OpenCV often work best with lower-resolution streams \n",
    "# if you need speed, so you might choose a specific stream.\n",
    "stream = yt.streams.filter(progressive=True, file_extension='mp4').order_by('resolution').desc().first()\n",
    "\n",
    "if stream:\n",
    "    # Get the direct URL for the video file\n",
    "    video_url = stream.url\n",
    "    print(f\"✅ Found stream URL: {video_url}\")\n",
    "else:\n",
    "    print(\"❌ Could not find a suitable progressive MP4 stream.\")\n",
    "    video_url = None"
   ]
  },
  {
   "cell_type": "code",
   "execution_count": null,
   "metadata": {},
   "outputs": [],
   "source": [
    "\n",
    "\n",
    "import cv2\n",
    "\n",
    "\n",
    "try:\n",
    "    tracker = cv2.TrackerKCF_create()\n",
    "except AttributeError:\n",
    "    print(\"Warning: cv2.TrackerKCF_create not found. Trying cv2.legacy.TrackerKCF_create().\")\n",
    "    tracker = cv2.legacy.TrackerKCF_create()\n",
    "\n",
    "\n",
    "# --- 2. Setup Video Source ---\n",
    "# Use webcam (0) or a video file path\n",
    "cap = cv2.VideoCapture(stream.url)\n",
    "\n",
    "# Read the first frame to allow selection\n",
    "ret, frame = cap.read()\n",
    "if not ret:\n",
    "    print(\"Error: Could not read first frame.\")\n",
    "    exit()\n",
    "\n",
    "# --- 3. Select Region of Interest (ROI) for Initialization ---\n",
    "# The cv2.selectROI function opens a window and lets the user draw a bounding box.\n",
    "# bbox will be a tuple (x, y, w, h)\n",
    "print(\"Draw a bounding box around the object you want to track, then press ENTER or SPACE.\")\n",
    "#bbox = cv2.selectROI(\"Tracker Initialization\", frame, False)"
   ]
  },
  {
   "cell_type": "code",
   "execution_count": null,
   "metadata": {},
   "outputs": [],
   "source": []
  },
  {
   "cell_type": "code",
   "execution_count": null,
   "metadata": {},
   "outputs": [],
   "source": []
  },
  {
   "cell_type": "code",
   "execution_count": null,
   "metadata": {},
   "outputs": [],
   "source": []
  }
 ],
 "metadata": {
  "kernelspec": {
   "display_name": "Python 3 (ipykernel)",
   "language": "python",
   "name": "python3"
  },
  "language_info": {
   "codemirror_mode": {
    "name": "ipython",
    "version": 3
   },
   "file_extension": ".py",
   "mimetype": "text/x-python",
   "name": "python",
   "nbconvert_exporter": "python",
   "pygments_lexer": "ipython3",
   "version": "3.11.5"
  }
 },
 "nbformat": 4,
 "nbformat_minor": 4
}
